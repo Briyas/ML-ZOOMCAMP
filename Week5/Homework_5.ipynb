{
 "cells": [
  {
   "cell_type": "code",
   "execution_count": 1,
   "metadata": {},
   "outputs": [],
   "source": [
    "import pickle as pkl\n",
    "import requests"
   ]
  },
  {
   "cell_type": "markdown",
   "metadata": {},
   "source": [
    "# Q1-Version of Pipenv\n"
   ]
  },
  {
   "cell_type": "code",
   "execution_count": 2,
   "metadata": {},
   "outputs": [
    {
     "name": "stdout",
     "output_type": "stream",
     "text": [
      "pipenv, version 2023.10.3\n"
     ]
    }
   ],
   "source": [
    "!pipenv --version"
   ]
  },
  {
   "cell_type": "markdown",
   "metadata": {},
   "source": [
    "# Q2 - Checksum for Scikit-Learn 1.3.1 "
   ]
  },
  {
   "cell_type": "markdown",
   "metadata": {},
   "source": [
    "**sha256:0c275a06c5190c5ce00af0acbb61c06374087949f643ef32d355ece12c4db043**"
   ]
  },
  {
   "cell_type": "markdown",
   "metadata": {},
   "source": [
    "# Q3 - Probability of getting a credit (Script)"
   ]
  },
  {
   "cell_type": "code",
   "execution_count": 3,
   "metadata": {},
   "outputs": [
    {
     "name": "stdout",
     "output_type": "stream",
     "text": [
      "\n",
      "Saved under model1 (1).bin\n",
      "\n",
      "Saved under dv (1).bin\n"
     ]
    }
   ],
   "source": [
    "PREFIX = 'https://raw.githubusercontent.com/DataTalksClub/machine-learning-zoomcamp/master/cohorts/2023/05-deployment/homework'\n",
    "!python -m wget $PREFIX/model1.bin [options] model1.bin\n",
    "!python -m wget $PREFIX/dv.bin [options] dv.bin"
   ]
  },
  {
   "cell_type": "code",
   "execution_count": 4,
   "metadata": {},
   "outputs": [],
   "source": [
    "user = {\"job\": \"retired\", \"duration\": 445, \"poutcome\": \"success\"}"
   ]
  },
  {
   "cell_type": "code",
   "execution_count": 5,
   "metadata": {},
   "outputs": [],
   "source": [
    "with open('dv.bin', 'rb') as f_in:\n",
    "    dv = pkl.load(f_in)\n",
    "\n",
    "with open('model1.bin', 'rb') as f_in:\n",
    "    model = pkl.load(f_in)"
   ]
  },
  {
   "cell_type": "code",
   "execution_count": 6,
   "metadata": {},
   "outputs": [
    {
     "name": "stdout",
     "output_type": "stream",
     "text": [
      "0.902\n"
     ]
    }
   ],
   "source": [
    "X = dv.transform([user])\n",
    "\n",
    "print(round(model.predict_proba(X)[0, 1],3))"
   ]
  },
  {
   "cell_type": "markdown",
   "metadata": {},
   "source": [
    "# Q4 - Probability of getting a credit (Flask)"
   ]
  },
  {
   "cell_type": "code",
   "execution_count": 7,
   "metadata": {},
   "outputs": [],
   "source": [
    "url = 'http://localhost:9696/predict'\n",
    "client = {\"job\": \"unknown\", \"duration\": 270, \"poutcome\": \"failure\"}\n",
    "response = requests.post(url, json=client).json()"
   ]
  },
  {
   "cell_type": "code",
   "execution_count": 8,
   "metadata": {},
   "outputs": [
    {
     "data": {
      "text/plain": [
       "0.14"
      ]
     },
     "execution_count": 8,
     "metadata": {},
     "output_type": "execute_result"
    }
   ],
   "source": [
    "response['churn_probability']"
   ]
  },
  {
   "cell_type": "markdown",
   "metadata": {},
   "source": [
    "# Q5- Size of the base image\n"
   ]
  },
  {
   "cell_type": "code",
   "execution_count": 9,
   "metadata": {},
   "outputs": [
    {
     "name": "stdout",
     "output_type": "stream",
     "text": [
      "3.10.12-slim: Pulling from svizor/zoomcamp-model\n",
      "52d2b7f179e3: Pulling fs layer\n",
      "2b8a9a2240c1: Pulling fs layer\n",
      "618a49bbc6c6: Pulling fs layer\n",
      "708d13076071: Pulling fs layer\n",
      "90b76fc2ebde: Pulling fs layer\n",
      "a7c599e7b037: Pulling fs layer\n",
      "708d13076071: Waiting\n",
      "faa7e3220190: Pulling fs layer\n",
      "90b76fc2ebde: Waiting\n",
      "a7c599e7b037: Waiting\n",
      "faa7e3220190: Waiting\n",
      "2b8a9a2240c1: Verifying Checksum\n",
      "2b8a9a2240c1: Download complete\n",
      "708d13076071: Verifying Checksum\n",
      "708d13076071: Download complete\n",
      "90b76fc2ebde: Download complete\n",
      "a7c599e7b037: Verifying Checksum\n",
      "a7c599e7b037: Download complete\n",
      "faa7e3220190: Verifying Checksum\n",
      "faa7e3220190: Download complete\n",
      "618a49bbc6c6: Verifying Checksum\n",
      "618a49bbc6c6: Download complete\n",
      "52d2b7f179e3: Verifying Checksum\n",
      "52d2b7f179e3: Download complete\n",
      "52d2b7f179e3: Pull complete\n",
      "2b8a9a2240c1: Pull complete\n",
      "618a49bbc6c6: Pull complete\n",
      "708d13076071: Pull complete\n",
      "90b76fc2ebde: Pull complete\n",
      "a7c599e7b037: Pull complete\n",
      "faa7e3220190: Pull complete\n",
      "Digest: sha256:e8441100b9d8da56344f50c673eb2daded3c61ce9565e45c3592c02f34fb3149\n",
      "Status: Downloaded newer image for svizor/zoomcamp-model:3.10.12-slim\n",
      "docker.io/svizor/zoomcamp-model:3.10.12-slim\n"
     ]
    },
    {
     "name": "stderr",
     "output_type": "stream",
     "text": [
      "\n",
      "What's Next?\n",
      "  View a summary of image vulnerabilities and recommendations → docker scout quickview svizor/zoomcamp-model:3.10.12-slim\n"
     ]
    }
   ],
   "source": [
    "!docker pull svizor/zoomcamp-model:3.10.12-slim"
   ]
  },
  {
   "cell_type": "code",
   "execution_count": 10,
   "metadata": {},
   "outputs": [
    {
     "name": "stdout",
     "output_type": "stream",
     "text": [
      "REPOSITORY              TAG            IMAGE ID       CREATED      SIZE\n",
      "svizor/zoomcamp-model   3.10.12-slim   08266c8f0c4b   7 days ago   147MB\n"
     ]
    }
   ],
   "source": [
    "!docker images"
   ]
  },
  {
   "cell_type": "markdown",
   "metadata": {},
   "source": [
    "# Q6-  Probability of getting a credit (Docker)\n"
   ]
  },
  {
   "cell_type": "code",
   "execution_count": 12,
   "metadata": {},
   "outputs": [
    {
     "data": {
      "text/plain": [
       "{'churn_probability': 0.902}"
      ]
     },
     "execution_count": 12,
     "metadata": {},
     "output_type": "execute_result"
    }
   ],
   "source": [
    "url = \"http://localhost:9696/predict\"\n",
    "client = {\"job\": \"retired\", \"duration\": 445, \"poutcome\": \"success\"}\n",
    "requests.post(url, json=client).json()"
   ]
  },
  {
   "cell_type": "markdown",
   "metadata": {},
   "source": [
    "There was a problem with docker and terminal, so I couldn't pull the correct value."
   ]
  }
 ],
 "metadata": {
  "kernelspec": {
   "display_name": "ML_ZOOMCAMP-9O-uksIV",
   "language": "python",
   "name": "python3"
  },
  "language_info": {
   "codemirror_mode": {
    "name": "ipython",
    "version": 3
   },
   "file_extension": ".py",
   "mimetype": "text/x-python",
   "name": "python",
   "nbconvert_exporter": "python",
   "pygments_lexer": "ipython3",
   "version": "3.10.7"
  }
 },
 "nbformat": 4,
 "nbformat_minor": 2
}
